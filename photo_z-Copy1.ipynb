{
 "cells": [
  {
   "cell_type": "code",
   "execution_count": 1,
   "id": "c2273ad6-1b03-4df8-b693-401b7caa209a",
   "metadata": {},
   "outputs": [],
   "source": [
    "from astropy.io import fits\n",
    "from astropy.table import Table\n",
    "import numpy as np\n",
    "import pylab as plt\n",
    "import random\n",
    "from scipy import stats\n",
    "from sklearn.neighbors import KDTree\n",
    "import time\n",
    "from sklearn.metrics import mean_squared_error\n",
    "from sklearn.ensemble import RandomForestRegressor"
   ]
  },
  {
   "cell_type": "code",
   "execution_count": 2,
   "id": "64993306-815c-4c1f-89b4-e24d86a44b75",
   "metadata": {},
   "outputs": [],
   "source": [
    "## DATA ##\n",
    "\n",
    "file_path = \"/project/projectdirs/desi/spectro/fastspecfit/everest/catalogs/fastspec-everest-main-bright.fits\"\n",
    "data=Table.read(file_path,hdu=1)"
   ]
  },
  {
   "cell_type": "code",
   "execution_count": 3,
   "id": "de1ebf85-b793-4e0a-bdb6-ae7fa9380c85",
   "metadata": {},
   "outputs": [
    {
     "name": "stdout",
     "output_type": "stream",
     "text": [
      "1088377\n"
     ]
    }
   ],
   "source": [
    "## getting good data of size n\n",
    "N=data[\"TARGETID\"].size\n",
    "file_path = \"/project/projectdirs/desi/spectro/fastspecfit/everest/catalogs/fastphot-everest-main-bright.fits\"\n",
    "data2=Table.read(file_path,hdu=1)\n",
    "data3=Table.read(file_path,hdu=2)\n",
    "n=50*10**3\n",
    "positions=[]\n",
    "magnitude_names=[\"FLUX_G\",\"FLUX_R\",\"FLUX_Z\",\"FLUX_W1\",\"FLUX_W2\"]\n",
    "checking_magnitudes=data3[magnitude_names]\n",
    "for i in range(N):\n",
    "    k=0\n",
    "    # if data[\"HALPHA_EW\"][i]==0:\n",
    "    #     k+=1\n",
    "    for j in range(len(magnitude_names)):\n",
    "        if checking_magnitudes[i][j]==0:\n",
    "            k+=1\n",
    "    if k==0:\n",
    "        positions.append(i)\n",
    "print(len(positions))\n",
    "\n",
    "#magnitude_names=[\"FLUX_SYNTH_MODEL_G\",\"FLUX_SYNTH_MODEL_R\",\"FLUX_SYNTH_MODEL_Z\",\"FLUX_SYNTH_MODEL_W1\",\"FLUX_SYNTH_MODEL_W2\"]\n",
    "#magnitude_names=[\"KCORR_SDSS_U\",\"KCORR_SDSS_G\",\"KCORR_SDSS_R\",\"KCORR_SDSS_I\",\"KCORR_SDSS_Z\",\"KCORR_W1\"]\n",
    "\n",
    "#magnitude_names=[\"ABSMAG_SDSS_U\",\"ABSMAG_SDSS_G\",\"ABSMAG_SDSS_R\",\"ABSMAG_SDSS_I\",\"ABSMAG_SDSS_Z\"]\n",
    "#jj=random.sample(range(0,len(positions)),n)\n",
    "jj=np.arange(n)\n",
    "z=np.zeros(n)\n",
    "magnitudes=np.zeros([n,len(magnitude_names)])\n",
    "\n",
    "for i in range(n):\n",
    "    z[i]=data[\"CONTINUUM_Z\"][positions[jj[i]]]\n",
    "    for j in range(len(magnitude_names)):\n",
    "        magnitudes[i,j]=data3[magnitude_names[j]][positions[jj[i]]]"
   ]
  },
  {
   "cell_type": "code",
   "execution_count": 4,
   "id": "79189523-ad57-46e3-8073-87848d478db1",
   "metadata": {},
   "outputs": [
    {
     "name": "stdout",
     "output_type": "stream",
     "text": [
      "[]\n",
      "[]\n",
      "[]\n",
      "[]\n",
      "[]\n",
      "[]\n",
      "[]\n",
      "[]\n",
      "[]\n",
      "[]\n",
      "[0.8660783293311329, 0.867152474718099, 0.8586798746671949, 0.8505032407081297, 0.8545486194299446, 0.8447246567009861, 0.836905102340204, 0.84880675033627, 0.8287555823342232, 0.8428597344183894]\n",
      "0.8499014364984573\n",
      "[0.08791870321351414, 0.10111902165287799, 0.1297784932381349, 0.13821169785980328, 0.13854805787309252, 0.2950936299215348, 0.14598504500002876, 0.136453430112666, 0.6834897975980437, 0.10011289142857617]\n",
      "0.19567107678982726\n",
      "[0.03739786677288428, 0.0386068358039583, 0.038339726578885486, 0.03752187913180463, 0.03887064147646696, 0.039274113588488375, 0.03848626905938033, 0.03902337517392499, 0.03923656980237504, 0.03784370813882239]\n",
      "0.03846009855269907\n"
     ]
    }
   ],
   "source": [
    "x=np.zeros([n,len(magnitude_names)])\n",
    "for i in range(n):\n",
    "    for j in range(len(magnitude_names)-1):\n",
    "        x[i,j]=magnitudes[i,j]/magnitudes[i,j+1]\n",
    "    x[i,-1]=magnitudes[i,1]\n",
    "\n",
    "av_x=np.zeros(x.shape[1]-1)\n",
    "std_x=np.zeros(x.shape[1]-1)\n",
    "for i in range(1,x.shape[1]):\n",
    "    av_x[i-1]=np.average(x[:,i])\n",
    "    std_x[i-1]=np.std(x[:,i])\n",
    "    x[:,i]=(x[:,i]-av_x[i-1])/std_x[i-1]\n",
    "\n",
    "model=RandomForestRegressor()\n",
    "\n",
    "N_cv=10\n",
    "x_split=np.split(x,N_cv)\n",
    "z_split=np.split(z,N_cv)\n",
    "z_fit_all=[]\n",
    "z_obs_all=[]\n",
    "spearman_all=[]\n",
    "rms_all=[]\n",
    "nmad_all=[]\n",
    "for i in range(N_cv):\n",
    "    x_valid=x_split[i]\n",
    "    z_valid=z_split[i]\n",
    "    x_to_combine=[]\n",
    "    z_to_combine=[]\n",
    "    for j in range(N_cv):\n",
    "        if j!=i:\n",
    "            x_to_combine.append(x_split[j])\n",
    "            z_to_combine.append(z_split[j])\n",
    "    x_train=np.concatenate(tuple(x_to_combine),axis=0)\n",
    "    z_train=np.concatenate(tuple(z_to_combine),axis=0)\n",
    "    nl=100\n",
    "    tree=KDTree(x_train[:,:])\n",
    "    dist, ind=tree.query(x_valid[:,:],k=nl)\n",
    "    \n",
    "    zeros=np.where(dist==0)[0]\n",
    "    print(zeros)\n",
    "    dist=np.delete(dist,obj=zeros,axis=0)\n",
    "    ind=np.delete(ind,obj=zeros,axis=0)\n",
    "    x_valid=np.delete(x_valid,obj=zeros,axis=0)\n",
    "    z_valid=np.delete(z_valid,obj=zeros,axis=0)\n",
    "    \n",
    "    n_valid=x_valid.shape[0]\n",
    "    theta=np.zeros([n_valid,x.shape[1],1])\n",
    "    W=np.zeros([n_valid,nl,nl])\n",
    "    X=np.zeros([n_valid,nl,x.shape[1]])\n",
    "    Y=np.zeros([n_valid,nl,1])\n",
    "    for j in range(nl):\n",
    "        W[:,j,j]=1/dist[:,j]\n",
    "        #W[:,j,j]=1\n",
    "        #W[:,j,j]=np.exp(-dist[:,j]/alpha)\n",
    "        X[:,j,:]=x_train[ind[:,j],:]\n",
    "        Y[:,j,0]=z_train[ind[:,j]]\n",
    "    a1=np.zeros([n_valid,x.shape[1],1])\n",
    "    a2=np.zeros([n_valid,x.shape[1],x.shape[1]])\n",
    "    \n",
    "    for ii in range(n_valid):\n",
    "        a1[ii,:,:]=np.matmul(X[ii,:,:].transpose(),np.matmul(W[ii,:,:],Y[ii,:,:]))\n",
    "        a2[ii,:,:]=np.matmul(X[ii,:,:].transpose(),np.matmul(W[ii,:,:],X[ii,:,:]))\n",
    "        theta[ii,:,:]=np.matmul(np.linalg.inv(a2[ii,:,:]),a1[ii,:,:])\n",
    "    z_fit=np.zeros(n_valid)\n",
    "    z_used=np.zeros(n_valid)\n",
    "    nmad=np.zeros(n_valid)\n",
    "    for ii in range(n_valid):\n",
    "        z_fit[ii]=np.matmul(theta[ii,:,:].transpose(),x_valid[ii,:])\n",
    "        z_used[ii]=z_valid[ii]\n",
    "        nmad[ii]=np.abs(z_fit[ii]-z_used[ii])\n",
    "    z_fit_all.append(z_fit)\n",
    "    z_obs_all.append(z_used)\n",
    "    spearman_all.append(stats.spearmanr(z_fit,z_used)[0])\n",
    "    rms_all.append(np.sqrt(mean_squared_error(z_fit,z_used)))\n",
    "    nmad_all.append(1.48*np.median(nmad))\n",
    "    \n",
    "\n",
    "print(spearman_all)\n",
    "print(np.average(spearman_all))\n",
    "print(rms_all)\n",
    "print(np.average(rms_all))\n",
    "print(nmad_all)\n",
    "print(np.average(nmad_all))\n",
    "\n",
    "\n",
    "with open(\"/global/homes/a/ashodkh/results/photo_z_fit_LLR.txt\",'w') as f:\n",
    "    for i in range(N_cv):\n",
    "        for j in range(len(z_fit_all[i])-1):\n",
    "            f.write(str(np.round(z_fit_all[i][j],decimals=5))+',')\n",
    "        f.write(str(np.round(z_fit_all[i][-1],decimals=5)))\n",
    "        f.write('\\n')\n",
    "\n",
    "with open(\"/global/homes/a/ashodkh/results/photo_z_obs_LLR.txt\",'w') as f:\n",
    "    for i in range(N_cv):\n",
    "        for j in range(len(z_obs_all[i])-1):\n",
    "            f.write(str(np.round(z_obs_all[i][j],decimals=5))+',')\n",
    "        f.write(str(np.round(z_obs_all[i][-1],decimals=5)))\n",
    "        f.write('\\n')\n"
   ]
  },
  {
   "cell_type": "code",
   "execution_count": 5,
   "id": "e9f3dcf2-dd01-4ca8-b268-150c34e368e3",
   "metadata": {},
   "outputs": [
    {
     "data": {
      "text/plain": [
       "[<matplotlib.lines.Line2D at 0x15540b1dbd90>]"
      ]
     },
     "execution_count": 5,
     "metadata": {},
     "output_type": "execute_result"
    },
    {
     "data": {
      "image/png": "[encoded data removed]",
      "text/plain": [
       "<Figure size 432x288 with 1 Axes>"
      ]
     },
     "metadata": {
      "needs_background": "light"
     },
     "output_type": "display_data"
    }
   ],
   "source": [
    "plt.plot(z_obs_all[0],z_fit_all[0],'*',alpha=0.1)\n",
    "plt.plot(np.arange(0,2,0.1),np.arange(0,2,0.1))"
   ]
  },
  {
   "cell_type": "code",
   "execution_count": 6,
   "id": "dcc1aa5b-647f-4b8c-b8e3-b14eea4557f3",
   "metadata": {},
   "outputs": [
    {
     "name": "stdout",
     "output_type": "stream",
     "text": [
      "[0.8660783293311329, 0.867152474718099, 0.8586798746671949, 0.8505032407081297, 0.8545486194299446, 0.8447246567009861, 0.836905102340204, 0.84880675033627, 0.8287555823342232, 0.8428597344183894]\n"
     ]
    }
   ],
   "source": [
    "print(spearman_all)"
   ]
  },
  {
   "cell_type": "code",
   "execution_count": null,
   "id": "90957828-cc99-47a2-8e74-6ad8429ed141",
   "metadata": {},
   "outputs": [],
   "source": []
  }
 ],
 "metadata": {
  "kernelspec": {
   "display_name": "DESI master",
   "language": "python",
   "name": "desi-master"
  },
  "language_info": {
   "codemirror_mode": {
    "name": "ipython",
    "version": 3
   },
   "file_extension": ".py",
   "mimetype": "text/x-python",
   "name": "python",
   "nbconvert_exporter": "python",
   "pygments_lexer": "ipython3",
   "version": "3.9.7"
  }
 },
 "nbformat": 4,
 "nbformat_minor": 5
}
